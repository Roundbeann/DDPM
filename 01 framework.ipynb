{
 "cells": [
  {
   "cell_type": "markdown",
   "source": [
    "# 导包\n"
   ],
   "metadata": {
    "collapsed": false
   },
   "id": "d7c7ed9f7879c527"
  },
  {
   "cell_type": "code",
   "execution_count": 1,
   "outputs": [],
   "source": [
    "import random\n",
    "import imageio\n",
    "import numpy as np\n",
    "from argparse import ArgumentParser # 参数转换？\n",
    "\n",
    "from tqdm.auto import tqdm\n",
    "import matplotlib.pyplot as plt\n",
    "\n",
    "import einops # gif visualization\n",
    "import torch\n",
    "import torch.nn as nn\n",
    "from torch.optim import Adam #优化器\n",
    "from torch.utils.data import DataLoader # 数据迭代器\n",
    "\n",
    "from torchvision.transforms import Compose,ToTensor,Lambda\n",
    "from torchvision.datasets.mnist import MNIST, FashionMNIST #导入MNIST, FashionMNIST 两个数据集"
   ],
   "metadata": {
    "collapsed": false,
    "ExecuteTime": {
     "start_time": "2024-03-09T08:48:32.922968500Z"
    }
   },
   "id": "initial_id"
  },
  {
   "cell_type": "code",
   "execution_count": null,
   "outputs": [],
   "source": [
    "fashion = True # 代表选用 FashionMNIST 数据集 \n",
    "train_flag = True # 代表训练模式，否则进行推理和生成"
   ],
   "metadata": {
    "collapsed": false
   },
   "id": "7197585326b58a92"
  },
  {
   "cell_type": "markdown",
   "source": [
    "# Training"
   ],
   "metadata": {
    "collapsed": false
   },
   "id": "8ee4f1c7151148bb"
  },
  {
   "cell_type": "code",
   "execution_count": null,
   "outputs": [],
   "source": [
    "# 选用FashionMnist 模型存储路径则为 “ddpm_fashion.pt”\n",
    "store_path = \"ddpm_fashion.pt\" if fashion else \"ddpm_mnist.pt\" # 定义模型的存储路径\n",
    "\n",
    "# 训练循环\n",
    "def training_loop(ddpm, loader, n_epochs, optim, device):\n",
    "    pass\n",
    "\n",
    "# 定义DDPM类\n",
    "class MyDDPM():\n",
    "    pass\n",
    "\n",
    "# 定义Unet网络\n",
    "class MyUNet():\n",
    "    pass\n",
    "\n",
    "# 展示图片\n",
    "def show_images():\n",
    "    pass\n",
    "\n",
    "# 生成图片（采样过程）\n",
    "def generate_new_images():\n",
    "    pass\n",
    "\n",
    "# 加噪的步长\n",
    "n_steps = 100\n",
    "\n",
    "# 实例化DDPM类\n",
    "ddpm = MyDDPM()\n",
    "# ddpm = MyDDPM(MyUNet(), n_steps = n_steps, device = device)\n",
    "\n",
    "loader = None\n",
    "n_epochs = None\n",
    "optim = None\n",
    "device = None\n",
    "\n",
    "# 训练模式 开启训练流程\n",
    "if train_flag: # 训练模式下执行训练\n",
    "    training_loop(ddpm, loader, n_epochs, optim, device)"
   ],
   "metadata": {
    "collapsed": false
   },
   "id": "c61f2994d59331e5"
  },
  {
   "cell_type": "markdown",
   "source": [
    "# Testing and Generation"
   ],
   "metadata": {
    "collapsed": false
   },
   "id": "6c448af7b93190fb"
  },
  {
   "cell_type": "code",
   "execution_count": null,
   "outputs": [],
   "source": [
    "# 实例化模型\n",
    "best_model = MyDDPM(MyUNet(), n_steps = n_steps, device = device) \n",
    "# 加载权重参数到device\n",
    "best_model.load_state_dict(torch.load(store_path), map_location = device) \n",
    "# 推理模式 不计算梯度，不更新权重\n",
    "best_model.eval() "
   ],
   "metadata": {
    "collapsed": false
   },
   "id": "53d146472e1b4727"
  },
  {
   "cell_type": "code",
   "execution_count": null,
   "outputs": [],
   "source": [
    "# 采样器\n",
    "# 输入：预测杂声的模型，加噪步长，图片生成过程\n",
    "generated = generate_new_images(\n",
    "    best_model,\n",
    "    n_samples = 100,\n",
    "    device = device,\n",
    "    gif_name = \"fashion.gif\" if fashion else \"mnist.gif\"\n",
    ")\n",
    "\n",
    "show_images(generated, \"Final result\")"
   ],
   "metadata": {
    "collapsed": false
   },
   "id": "c8a91f15ee617dfd"
  },
  {
   "cell_type": "markdown",
   "source": [],
   "metadata": {
    "collapsed": false
   },
   "id": "dbe3e99a881868b4"
  }
 ],
 "metadata": {
  "kernelspec": {
   "display_name": "Python 3",
   "language": "python",
   "name": "python3"
  },
  "language_info": {
   "codemirror_mode": {
    "name": "ipython",
    "version": 2
   },
   "file_extension": ".py",
   "mimetype": "text/x-python",
   "name": "python",
   "nbconvert_exporter": "python",
   "pygments_lexer": "ipython2",
   "version": "2.7.6"
  }
 },
 "nbformat": 4,
 "nbformat_minor": 5
}
